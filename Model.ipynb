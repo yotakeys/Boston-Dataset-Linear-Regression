{
 "cells": [
  {
   "cell_type": "code",
   "execution_count": 16,
   "metadata": {},
   "outputs": [],
   "source": [
    "import pandas as pd\n",
    "from sklearn.model_selection import train_test_split\n",
    "from sklearn.linear_model import LinearRegression\n",
    "from sklearn.metrics import mean_absolute_error, mean_squared_error\n",
    "import matplotlib.pyplot as plt"
   ]
  },
  {
   "cell_type": "code",
   "execution_count": 4,
   "metadata": {},
   "outputs": [],
   "source": [
    "boston = pd.read_csv(\"boston.csv\",index_col=0)"
   ]
  },
  {
   "cell_type": "code",
   "execution_count": 5,
   "metadata": {},
   "outputs": [
    {
     "data": {
      "text/plain": [
       "Index(['crim', 'zn', 'indus', 'chas', 'nox', 'rm', 'age', 'dis', 'rad', 'tax',\n",
       "       'ptratio', 'black', 'lstat', 'medv'],\n",
       "      dtype='object')"
      ]
     },
     "execution_count": 5,
     "metadata": {},
     "output_type": "execute_result"
    }
   ],
   "source": [
    "boston.columns"
   ]
  },
  {
   "cell_type": "code",
   "execution_count": 6,
   "metadata": {},
   "outputs": [],
   "source": [
    "feature = ['crim', 'zn', 'indus', 'chas', 'nox', 'rm', 'age', 'dis', 'rad', 'tax',\n",
    "       'ptratio', 'black', 'lstat']"
   ]
  },
  {
   "cell_type": "code",
   "execution_count": 7,
   "metadata": {},
   "outputs": [],
   "source": [
    "X = boston[feature]"
   ]
  },
  {
   "cell_type": "code",
   "execution_count": 8,
   "metadata": {},
   "outputs": [],
   "source": [
    "y = boston['medv']"
   ]
  },
  {
   "cell_type": "code",
   "execution_count": 9,
   "metadata": {},
   "outputs": [],
   "source": [
    "trainX,valX,trainy,valy = train_test_split(X,y,random_state=1)"
   ]
  },
  {
   "cell_type": "code",
   "execution_count": 10,
   "metadata": {},
   "outputs": [],
   "source": [
    "model = LinearRegression()"
   ]
  },
  {
   "cell_type": "code",
   "execution_count": 11,
   "metadata": {},
   "outputs": [
    {
     "data": {
      "text/plain": [
       "LinearRegression()"
      ]
     },
     "execution_count": 11,
     "metadata": {},
     "output_type": "execute_result"
    }
   ],
   "source": [
    "model.fit(trainX,trainy)"
   ]
  },
  {
   "cell_type": "code",
   "execution_count": 13,
   "metadata": {},
   "outputs": [],
   "source": [
    "ypredict = model.predict(valX)"
   ]
  },
  {
   "cell_type": "code",
   "execution_count": 14,
   "metadata": {},
   "outputs": [
    {
     "name": "stdout",
     "output_type": "stream",
     "text": [
      "3.5748681261275355\n"
     ]
    }
   ],
   "source": [
    "print(mean_absolute_error(valy,ypredict))"
   ]
  },
  {
   "cell_type": "code",
   "execution_count": 15,
   "metadata": {},
   "outputs": [
    {
     "name": "stdout",
     "output_type": "stream",
     "text": [
      "21.897765396049206\n"
     ]
    }
   ],
   "source": [
    "print(mean_squared_error(valy,ypredict))"
   ]
  },
  {
   "cell_type": "code",
   "execution_count": 19,
   "metadata": {},
   "outputs": [
    {
     "data": {
      "text/plain": [
       "<matplotlib.collections.PathCollection at 0x26475b37710>"
      ]
     },
     "execution_count": 19,
     "metadata": {},
     "output_type": "execute_result"
    },
    {
     "data": {
      "image/png": "[encoded data removed]",
      "text/plain": [
       "<Figure size 432x288 with 1 Axes>"
      ]
     },
     "metadata": {
      "needs_background": "light"
     },
     "output_type": "display_data"
    }
   ],
   "source": [
    "plt.scatter(ypredict,valy)"
   ]
  },
  {
   "cell_type": "code",
   "execution_count": 20,
   "metadata": {},
   "outputs": [
    {
     "data": {
      "text/plain": [
       "308    28.2\n",
       "344    23.9\n",
       "48     16.6\n",
       "68     22.0\n",
       "363    20.8\n",
       "       ... \n",
       "42     26.6\n",
       "362    19.9\n",
       "290    24.8\n",
       "499    21.2\n",
       "294    23.9\n",
       "Name: medv, Length: 127, dtype: float64"
      ]
     },
     "execution_count": 20,
     "metadata": {},
     "output_type": "execute_result"
    }
   ],
   "source": [
    "valy"
   ]
  },
  {
   "cell_type": "code",
   "execution_count": 21,
   "metadata": {},
   "outputs": [
    {
     "data": {
      "text/plain": [
       "array([32.37816533, 27.95684437, 18.07213891, 21.63166556, 18.93029508,\n",
       "       19.96277202, 32.2834674 , 18.06715668, 24.72989076, 26.85359369,\n",
       "       27.23326816, 28.57021239, 21.18778302, 26.94393815, 23.37892579,\n",
       "       20.89176865, 17.11746934, 37.73997945, 30.51980066,  8.44489436,\n",
       "       20.86557977, 16.21989418, 25.13605925, 24.77658813, 31.40497629,\n",
       "       11.02741407, 13.82097563, 16.80208261, 35.94637198, 14.7155729 ,\n",
       "       21.23939821, 14.15079469, 42.72492585, 17.83887162, 21.84610225,\n",
       "       20.40178099, 17.50287927, 27.00093206,  9.80760408, 20.00288662,\n",
       "       24.27066782, 21.06719021, 29.47089776, 16.48482565, 19.38852695,\n",
       "       14.54778282, 39.39838319, 18.09810655, 26.22164983, 20.60676525,\n",
       "       25.09994066, 24.48366723, 25.02297948, 26.84986898,  5.01517985,\n",
       "       24.12809513, 10.72843392, 26.83178157, 16.8023533 , 35.48142073,\n",
       "       19.50937911, 27.43260347, 16.58016763, 19.151488  , 10.9990262 ,\n",
       "       32.05016535, 36.32672849, 21.8596379 , 24.8158357 , 25.32934192,\n",
       "       23.36795453,  6.98356201, 16.83774771, 20.27043864, 20.74890857,\n",
       "       21.85918305, 34.17775836, 27.94673486, 24.86029952, 34.43415796,\n",
       "       18.61651831, 24.02302532, 34.45439496, 13.32264718, 20.7154011 ,\n",
       "       30.1583435 , 17.06611728, 24.20119805, 19.18051951, 16.98160423,\n",
       "       26.8073424 , 41.02666829, 14.44767989, 23.26993252, 14.93803206,\n",
       "       21.93017824, 22.81878103, 29.16467031, 36.7033389 , 20.41387117,\n",
       "       17.86800518, 17.49942601, 25.07246443, 21.9827349 ,  8.28652561,\n",
       "       21.52177032, 16.50788716, 33.00114509, 24.49693379, 25.08491201,\n",
       "       38.29621948, 28.93273167, 14.85478187, 34.7429184 , 35.50029467,\n",
       "       32.89599805, 20.98069467, 16.67849644, 34.24728954, 39.01179205,\n",
       "       21.57169864, 15.71337489, 27.33121768, 18.73350137, 27.27438226,\n",
       "       21.16402252, 26.00459084])"
      ]
     },
     "execution_count": 21,
     "metadata": {},
     "output_type": "execute_result"
    }
   ],
   "source": [
    "ypredict"
   ]
  },
  {
   "cell_type": "code",
   "execution_count": null,
   "metadata": {},
   "outputs": [],
   "source": []
  }
 ],
 "metadata": {
  "interpreter": {
   "hash": "c39bf7fa3010e8813337951680f8e3400330671bff02d7d1f38f6232d65f6120"
  },
  "kernelspec": {
   "display_name": "Python 3.7.0 64-bit",
   "language": "python",
   "name": "python3"
  },
  "language_info": {
   "codemirror_mode": {
    "name": "ipython",
    "version": 3
   },
   "file_extension": ".py",
   "mimetype": "text/x-python",
   "name": "python",
   "nbconvert_exporter": "python",
   "pygments_lexer": "ipython3",
   "version": "3.7.0"
  },
  "orig_nbformat": 4
 },
 "nbformat": 4,
 "nbformat_minor": 2
}
